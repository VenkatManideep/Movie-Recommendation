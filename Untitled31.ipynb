{
 "cells": [
  {
   "cell_type": "code",
   "execution_count": 1,
   "id": "cd7556a3",
   "metadata": {},
   "outputs": [],
   "source": [
    "class CineMatch:\n",
    "    def __init__(self):\n",
    "        self.movies = []\n",
    "    \n",
    "    def add_movie(self, title, genre, rating):\n",
    "        \"\"\"\n",
    "        Adds a new movie to the collection.\n",
    "        \"\"\"\n",
    "        movie = {\n",
    "            'title': title,\n",
    "            'genre': genre,\n",
    "            'rating': rating\n",
    "        }\n",
    "        self.movies.append(movie)\n",
    "        print(f\"Movie '{title}' added successfully.\")\n",
    "    \n",
    "    def search_by_title(self, title):\n",
    "        \"\"\"\n",
    "        Searches for movies by their title.\n",
    "        \"\"\"\n",
    "        results = [movie for movie in self.movies if title.lower() in movie['title'].lower()]\n",
    "        if results:\n",
    "            print(f\"Movies matching title '{title}':\")\n",
    "            for movie in results:\n",
    "                print(movie)\n",
    "        else:\n",
    "            print(f\"No movies found with title '{title}'.\")\n",
    "    \n",
    "    def search_by_genre(self, genre):\n",
    "        \"\"\"\n",
    "        Searches for movies by their genre.\n",
    "        \"\"\"\n",
    "        results = [movie for movie in self.movies if genre.lower() in movie['genre'].lower()]\n",
    "        if results:\n",
    "            print(f\"Movies matching genre '{genre}':\")\n",
    "            for movie in results:\n",
    "                print(movie)\n",
    "        else:\n",
    "            print(f\"No movies found with genre '{genre}'.\")\n",
    "    \n",
    "    def recommend_top_n(self, n):\n",
    "        \"\"\"\n",
    "        Recommends top N movies based on rating.\n",
    "        \"\"\"\n",
    "        sorted_movies = sorted(self.movies, key=lambda x: x['rating'], reverse=True)\n",
    "        top_n_movies = sorted_movies[:n]\n",
    "        print(f\"Top {n} movies based on rating:\")\n",
    "        for movie in top_n_movies:\n",
    "            print(movie)\n",
    "    \n",
    "    def delete_movie(self, title):\n",
    "        \"\"\"\n",
    "        Deletes a movie by its title.\n",
    "        \"\"\"\n",
    "        initial_length = len(self.movies)\n",
    "        self.movies = [movie for movie in self.movies if movie['title'].lower() != title.lower()]\n",
    "        if len(self.movies) < initial_length:\n",
    "            print(f\"Movie '{title}' deleted successfully.\")\n",
    "        else:\n",
    "            print(f\"No movie found with title '{title}'.\")\n",
    "\n",
    "\n"
   ]
  },
  {
   "cell_type": "code",
   "execution_count": 2,
   "id": "a656c67d",
   "metadata": {},
   "outputs": [
    {
     "name": "stdout",
     "output_type": "stream",
     "text": [
      "Movie 'Inception' added successfully.\n",
      "Movie 'The Dark Knight' added successfully.\n",
      "Movie 'Interstellar' added successfully.\n",
      "Movie 'The Prestige' added successfully.\n"
     ]
    }
   ],
   "source": [
    "cine_match = CineMatch()\n",
    "cine_match.add_movie(\"Inception\", \"Sci-Fi\", 8.8)\n",
    "cine_match.add_movie(\"The Dark Knight\", \"Action\", 9.0)\n",
    "cine_match.add_movie(\"Interstellar\", \"Sci-Fi\", 8.6)\n",
    "cine_match.add_movie(\"The Prestige\", \"Drama\", 8.5)"
   ]
  },
  {
   "cell_type": "code",
   "execution_count": 3,
   "id": "0f4aa527",
   "metadata": {},
   "outputs": [
    {
     "name": "stdout",
     "output_type": "stream",
     "text": [
      "Movies matching title 'Inception':\n",
      "{'title': 'Inception', 'genre': 'Sci-Fi', 'rating': 8.8}\n"
     ]
    }
   ],
   "source": [
    "cine_match.search_by_title(\"Inception\")"
   ]
  },
  {
   "cell_type": "code",
   "execution_count": 4,
   "id": "789c2814",
   "metadata": {},
   "outputs": [
    {
     "name": "stdout",
     "output_type": "stream",
     "text": [
      "Movies matching genre 'Sci-Fi':\n",
      "{'title': 'Inception', 'genre': 'Sci-Fi', 'rating': 8.8}\n",
      "{'title': 'Interstellar', 'genre': 'Sci-Fi', 'rating': 8.6}\n"
     ]
    }
   ],
   "source": [
    "cine_match.search_by_genre(\"Sci-Fi\")"
   ]
  },
  {
   "cell_type": "code",
   "execution_count": 5,
   "id": "4719cb30",
   "metadata": {},
   "outputs": [
    {
     "name": "stdout",
     "output_type": "stream",
     "text": [
      "Top 2 movies based on rating:\n",
      "{'title': 'The Dark Knight', 'genre': 'Action', 'rating': 9.0}\n",
      "{'title': 'Inception', 'genre': 'Sci-Fi', 'rating': 8.8}\n"
     ]
    }
   ],
   "source": [
    "cine_match.recommend_top_n(2)"
   ]
  },
  {
   "cell_type": "code",
   "execution_count": 6,
   "id": "bdc9afcf",
   "metadata": {},
   "outputs": [
    {
     "name": "stdout",
     "output_type": "stream",
     "text": [
      "Movie 'Inception' deleted successfully.\n"
     ]
    }
   ],
   "source": [
    "cine_match.delete_movie(\"Inception\")"
   ]
  },
  {
   "cell_type": "code",
   "execution_count": 7,
   "id": "7516d658",
   "metadata": {},
   "outputs": [
    {
     "name": "stdout",
     "output_type": "stream",
     "text": [
      "No movies found with title 'Inception'.\n"
     ]
    }
   ],
   "source": [
    "cine_match.search_by_title(\"Inception\")"
   ]
  },
  {
   "cell_type": "code",
   "execution_count": null,
   "id": "f7efe8e6",
   "metadata": {},
   "outputs": [],
   "source": []
  }
 ],
 "metadata": {
  "kernelspec": {
   "display_name": "Python 3 (ipykernel)",
   "language": "python",
   "name": "python3"
  },
  "language_info": {
   "codemirror_mode": {
    "name": "ipython",
    "version": 3
   },
   "file_extension": ".py",
   "mimetype": "text/x-python",
   "name": "python",
   "nbconvert_exporter": "python",
   "pygments_lexer": "ipython3",
   "version": "3.9.13"
  }
 },
 "nbformat": 4,
 "nbformat_minor": 5
}
